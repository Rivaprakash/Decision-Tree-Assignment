{
  "nbformat": 4,
  "nbformat_minor": 0,
  "metadata": {
    "colab": {
      "provenance": []
    },
    "kernelspec": {
      "name": "python3",
      "display_name": "Python 3"
    },
    "language_info": {
      "name": "python"
    }
  },
  "cells": [
    {
      "cell_type": "markdown",
      "source": [
        "1. What is a Decision Tree, and how does it work?\n",
        "\n",
        "Ans- A Decision Tree is a flowchart-like model used for classification or regression.\n",
        "\n",
        "How it works:\n",
        "* Data is split into smaller parts based on features.\n",
        "* Each split forms a “node”.\n",
        "* The process continues until a decision (leaf) is made."
      ],
      "metadata": {
        "id": "MAbv1GXAUcHA"
      }
    },
    {
      "cell_type": "markdown",
      "source": [
        "2. What are impurity measures in Decision Trees?\n",
        "\n",
        "Ans- Impurity measures tell how \"impure\" or mixed the data is in a group.\n",
        "* Gini Index: Tells how often labels are mixed.\n",
        "* Entropy: Tells how messy the data is.\n",
        "* Variance: Shows how far numbers are from the average (used in number prediction)."
      ],
      "metadata": {
        "id": "Rdj495VKUgq4"
      }
    },
    {
      "cell_type": "markdown",
      "source": [
        "3. What is the mathematical formula for Gini Impurity?\n",
        "\n",
        "Ans- Gini = 1 - ∑p2i\n",
        "\n",
        "Where:\n",
        "\n",
        "pi = probability of class i in the node."
      ],
      "metadata": {
        "id": "-tpZSvpwUpsc"
      }
    },
    {
      "cell_type": "markdown",
      "source": [
        "4. What is the mathematical formula for Entropy?\n",
        "\n",
        "Ans- Entropym = -∑pi log2(pi)\n",
        "\n",
        "Where:\n",
        "\n",
        "pi = probability of class i in the node."
      ],
      "metadata": {
        "id": "9VUTbG3-h6oY"
      }
    },
    {
      "cell_type": "markdown",
      "source": [
        "5. What is Information Gain, and how is it used in Decision Trees?\n",
        "\n",
        "Ans- Information Gain tells how much better the data gets after a split.\n",
        "* It checks how much confusion (entropy) is removed.\n",
        "* More gain = clearer groups = better split in the tree."
      ],
      "metadata": {
        "id": "acRIHhsoiAi_"
      }
    },
    {
      "cell_type": "markdown",
      "source": [
        "6. What is the difference between Gini Impurity and Entropy?\n",
        "\n",
        "Ans- Gini and Entropy both tell how mixed the classes are.\n",
        "\n",
        "* Gini is simpler and faster.\n",
        "* Entropy uses log, so it's a bit slower.\n",
        "* Both help pick the best split.\n",
        "* They often give similar results."
      ],
      "metadata": {
        "id": "bKim2wgsiCmQ"
      }
    },
    {
      "cell_type": "markdown",
      "source": [
        "7. What is the mathematical explanation behind Decision Trees?\n",
        "\n",
        "Ans- Decision Trees use mathematical concepts to split data at each node.\n",
        "\n",
        "* Start with the entire dataset.\n",
        "* Split based on a feature that minimizes impurity (Gini or Entropy).\n",
        "* Continue splitting recursively until:\n",
        "\n",
        "  * A stopping condition is met (e.g., max depth or no improvement).\n",
        "  * The nodes are pure (only one class)."
      ],
      "metadata": {
        "id": "xamUP1beiKNZ"
      }
    },
    {
      "cell_type": "markdown",
      "source": [
        "8. What is Pre-Pruning in Decision Trees?\n",
        "\n",
        "Ans- Pre-Pruning stops the tree from growing too deep during training.\n",
        "\n",
        "It involves setting conditions like:\n",
        "* Max depth: Limit tree depth.\n",
        "* Min samples per split: Require a minimum number of samples to split.\n",
        "* Min samples per leaf: Set a minimum number of samples in each leaf."
      ],
      "metadata": {
        "id": "M83uE1SAiM0u"
      }
    },
    {
      "cell_type": "markdown",
      "source": [
        "9. What is Post-Pruning in Decision Trees?\n",
        "\n",
        "Ans- Post-Pruning involves growing a full tree first, then trimming it back.\n",
        "\n",
        "It removes branches that don't add value, based on:\n",
        "\n",
        "* Validation set performance: If a branch reduces accuracy, it's pruned.\n",
        "* Cost-complexity pruning: Balances tree complexity and accuracy."
      ],
      "metadata": {
        "id": "DH3LTgqQiPUS"
      }
    },
    {
      "cell_type": "markdown",
      "source": [
        "10. What is the difference between Pre-Pruning and Post-Pruning?\n",
        "\n",
        "Ans- Pre-Pruning: Stops tree growth early (before it’s fully grown).\n",
        "\n",
        "* Conditions: max depth, min samples per split, etc.\n",
        "* Goal: Prevent overfitting during tree construction.\n",
        "\n",
        "Post-Pruning: Grows the tree fully, then trims unnecessary branches.\n",
        "* Trims branches that don’t improve accuracy.\n",
        "* Goal: Reduce complexity and overfitting after the tree is built."
      ],
      "metadata": {
        "id": "da63R-S2iRv3"
      }
    },
    {
      "cell_type": "markdown",
      "source": [
        "11. What is a Decision Tree Regressor?\n",
        "\n",
        "Ans- A Decision Tree Regressor is a type of Decision Tree used for predicting continuous values (regression tasks), not categories.\n",
        "\n",
        "It splits data based on features, then makes predictions by averaging the values in the leaf nodes."
      ],
      "metadata": {
        "id": "Z7-68VPoiUzi"
      }
    },
    {
      "cell_type": "markdown",
      "source": [
        "12. What are the advantages and disadvantages of Decision Trees?\n",
        "\n",
        "Ans- the advantages and disadvantages of Decision Trees are:\n",
        "\n",
        "Advantages:\n",
        "* Easy to understand\n",
        "* Works for classification and regression\n",
        "* Needs little data prep\n",
        "* Handles both numerical and categorical data\n",
        "\n",
        "Disadvantages:\n",
        "* Prone to overfitting\n",
        "* Can be unstable (small data change = different tree)\n",
        "* Not great with very complex patterns without boosting or bagging"
      ],
      "metadata": {
        "id": "4Ri7-q3xiX3q"
      }
    },
    {
      "cell_type": "markdown",
      "source": [
        "13. How does a Decision Tree handle missing values?\n",
        "\n",
        "Ans- Decision Trees handle missing values in a few ways:\n",
        "* Skip missing values during split checks.\n",
        "* Use surrogate splits (backup features) when main feature is missing.\n",
        "* Impute missing values (e.g., with mean, median) before training."
      ],
      "metadata": {
        "id": "fE7tXRkFicPs"
      }
    },
    {
      "cell_type": "markdown",
      "source": [
        "14. How does a Decision Tree handle categorical features?\n",
        "\n",
        "Ans- Decision Trees handle categorical features by:\n",
        "* Splitting by category (e.g., “Color = Red?”).\n",
        "* For many categories, it can group them into best splits"
      ],
      "metadata": {
        "id": "HsCAxphFigP8"
      }
    },
    {
      "cell_type": "markdown",
      "source": [
        "15. What are some real-world applications of Decision Trees?\n",
        "\n",
        "Ans- Real-world uses of Decision Trees:\n",
        "* Banking: Loan approval, credit scoring\n",
        "* Healthcare: Disease prediction, treatment plans\n",
        "* Retail: Customer segmentation, product recommendation\n",
        "* Marketing: Targeted ads, churn prediction\n",
        "* Finance: Fraud detection, stock prediction"
      ],
      "metadata": {
        "id": "3ShxytOPUahI"
      }
    },
    {
      "cell_type": "code",
      "source": [
        "#16. Write a Python program to train a Decision Tree Classifier on the Iris dataset and print the model accuracy.\n",
        "\n",
        "from sklearn.datasets import load_iris\n",
        "from sklearn.tree import DecisionTreeClassifier\n",
        "from sklearn.model_selection import train_test_split\n",
        "from sklearn.metrics import accuracy_score\n",
        "\n",
        "data = load_iris()\n",
        "X = data.data\n",
        "y = data.target\n",
        "\n",
        "X_train, X_test, y_train, y_test = train_test_split(X, y, test_size=0.2, random_state=42)\n",
        "\n",
        "model = DecisionTreeClassifier()\n",
        "model.fit(X_train, y_train)\n",
        "\n",
        "y_pred = model.predict(X_test)\n",
        "accuracy = accuracy_score(y_test, y_pred)\n",
        "print(\"Accuracy:\", accuracy)\n"
      ],
      "metadata": {
        "colab": {
          "base_uri": "https://localhost:8080/"
        },
        "id": "E64HcLm302E5",
        "outputId": "9e31c4e0-fc9d-41d3-fe9a-27d2bde87e62"
      },
      "execution_count": 1,
      "outputs": [
        {
          "output_type": "stream",
          "name": "stdout",
          "text": [
            "Accuracy: 1.0\n"
          ]
        }
      ]
    },
    {
      "cell_type": "code",
      "source": [
        "#17. Write a Python program to train a Decision Tree Classifier using Gini Impurity as the criterion and print the feature importances\n",
        "\n",
        "from sklearn.datasets import load_iris\n",
        "from sklearn.tree import DecisionTreeClassifier\n",
        "\n",
        "data = load_iris()\n",
        "X = data.data\n",
        "y = data.target\n",
        "\n",
        "model = DecisionTreeClassifier(criterion='gini')\n",
        "model.fit(X, y)\n",
        "\n",
        "for name, importance in zip(data.feature_names, model.feature_importances_):\n",
        "    print(f\"{name}: {importance}\")\n"
      ],
      "metadata": {
        "colab": {
          "base_uri": "https://localhost:8080/"
        },
        "id": "V30COF6r05sk",
        "outputId": "6d72cdcd-3445-4c1a-a881-0fbb06eeda9e"
      },
      "execution_count": 2,
      "outputs": [
        {
          "output_type": "stream",
          "name": "stdout",
          "text": [
            "sepal length (cm): 0.026666666666666658\n",
            "sepal width (cm): 0.0\n",
            "petal length (cm): 0.05072262479871173\n",
            "petal width (cm): 0.9226107085346216\n"
          ]
        }
      ]
    },
    {
      "cell_type": "code",
      "source": [
        "#18. Write a Python program to train a Decision Tree Classifier using Entropy as the splitting criterion and print the model accuracy.\n",
        "\n",
        "from sklearn.datasets import load_iris\n",
        "from sklearn.tree import DecisionTreeClassifier\n",
        "from sklearn.model_selection import train_test_split\n",
        "from sklearn.metrics import accuracy_score\n",
        "\n",
        "data = load_iris()\n",
        "X = data.data\n",
        "y = data.target\n",
        "\n",
        "X_train, X_test, y_train, y_test = train_test_split(X, y, test_size=0.2, random_state=42)\n",
        "\n",
        "model = DecisionTreeClassifier(criterion='entropy')\n",
        "model.fit(X_train, y_train)\n",
        "\n",
        "y_pred = model.predict(X_test)\n",
        "accuracy = accuracy_score(y_test, y_pred)\n",
        "print(\"Accuracy:\", accuracy)\n"
      ],
      "metadata": {
        "colab": {
          "base_uri": "https://localhost:8080/"
        },
        "id": "dfC-RuAg08bn",
        "outputId": "6bc06efc-a33b-45e7-d435-5cf7e53ba2bf"
      },
      "execution_count": 3,
      "outputs": [
        {
          "output_type": "stream",
          "name": "stdout",
          "text": [
            "Accuracy: 1.0\n"
          ]
        }
      ]
    },
    {
      "cell_type": "code",
      "source": [
        "#19. Write a Python program to train a Decision Tree Regressor on a housing dataset and evaluate using Mean Squared Error (MSE).\n",
        "\n",
        "from sklearn.datasets import fetch_california_housing\n",
        "from sklearn.tree import DecisionTreeRegressor\n",
        "from sklearn.model_selection import train_test_split\n",
        "from sklearn.metrics import mean_squared_error\n",
        "\n",
        "data = fetch_california_housing()\n",
        "X = data.data\n",
        "y = data.target\n",
        "\n",
        "X_train, X_test, y_train, y_test = train_test_split(X, y, test_size=0.2, random_state=42)\n",
        "\n",
        "model = DecisionTreeRegressor()\n",
        "model.fit(X_train, y_train)\n",
        "\n",
        "y_pred = model.predict(X_test)\n",
        "mse = mean_squared_error(y_test, y_pred)\n",
        "print(\"Mean Squared Error:\", mse)\n"
      ],
      "metadata": {
        "colab": {
          "base_uri": "https://localhost:8080/"
        },
        "id": "XxqV0dWv0_mY",
        "outputId": "97bb7141-48f2-45d7-9180-d715d1aad372"
      },
      "execution_count": 4,
      "outputs": [
        {
          "output_type": "stream",
          "name": "stdout",
          "text": [
            "Mean Squared Error: 0.5073571369710997\n"
          ]
        }
      ]
    },
    {
      "cell_type": "code",
      "source": [
        "#20. Write a Python program to train a Decision Tree Classifier and visualize the tree using graphviz\n",
        "\n",
        "from sklearn.datasets import load_iris\n",
        "from sklearn.tree import DecisionTreeClassifier, export_graphviz\n",
        "import graphviz\n",
        "\n",
        "data = load_iris()\n",
        "X = data.data\n",
        "y = data.target\n",
        "\n",
        "model = DecisionTreeClassifier()\n",
        "model.fit(X, y)\n",
        "\n",
        "dot_data = export_graphviz(model, out_file=None,\n",
        "                           feature_names=data.feature_names,\n",
        "                           class_names=data.target_names,\n",
        "                           filled=True, rounded=True,\n",
        "                           special_characters=True)\n",
        "\n",
        "graph = graphviz.Source(dot_data)\n",
        "graph.render(\"iris_tree\", view=True)  # Saves and opens the tree as PDF\n"
      ],
      "metadata": {
        "colab": {
          "base_uri": "https://localhost:8080/",
          "height": 35
        },
        "id": "hUOjo0Kf0ym7",
        "outputId": "05a4ddf8-247d-464e-e9dd-f586dcb1b59c"
      },
      "execution_count": 5,
      "outputs": [
        {
          "output_type": "execute_result",
          "data": {
            "text/plain": [
              "'iris_tree.pdf'"
            ],
            "application/vnd.google.colaboratory.intrinsic+json": {
              "type": "string"
            }
          },
          "metadata": {},
          "execution_count": 5
        }
      ]
    },
    {
      "cell_type": "code",
      "source": [
        "#21. Write a Python program to train a Decision Tree Classifier with a maximum depth of 3 and compare its accuracy with a fully grown tree.\n",
        "\n",
        "from sklearn.datasets import load_iris\n",
        "from sklearn.tree import DecisionTreeClassifier\n",
        "from sklearn.model_selection import train_test_split\n",
        "from sklearn.metrics import accuracy_score\n",
        "\n",
        "data = load_iris()\n",
        "X = data.data\n",
        "y = data.target\n",
        "\n",
        "X_train, X_test, y_train, y_test = train_test_split(X, y, test_size=0.2, random_state=42)\n",
        "\n",
        "model_depth_3 = DecisionTreeClassifier(max_depth=3)\n",
        "model_depth_3.fit(X_train, y_train)\n",
        "acc_depth_3 = accuracy_score(y_test, model_depth_3.predict(X_test))\n",
        "\n",
        "model_full = DecisionTreeClassifier()\n",
        "model_full.fit(X_train, y_train)\n",
        "acc_full = accuracy_score(y_test, model_full.predict(X_test))\n",
        "\n",
        "print(\"Accuracy with max depth 3:\", acc_depth_3)\n",
        "print(\"Accuracy with full tree:\", acc_full)\n"
      ],
      "metadata": {
        "colab": {
          "base_uri": "https://localhost:8080/"
        },
        "id": "HM5AE-l21Ktf",
        "outputId": "f572b16c-f252-462f-beb0-fa7e72325a3f"
      },
      "execution_count": 6,
      "outputs": [
        {
          "output_type": "stream",
          "name": "stdout",
          "text": [
            "Accuracy with max depth 3: 1.0\n",
            "Accuracy with full tree: 1.0\n"
          ]
        }
      ]
    },
    {
      "cell_type": "code",
      "source": [
        "#22. Write a Python program to train a Decision Tree Classifier using min_samples_split=5 and compare its accuracy with a default tree.\n",
        "\n",
        "from sklearn.datasets import load_iris\n",
        "from sklearn.tree import DecisionTreeClassifier\n",
        "from sklearn.model_selection import train_test_split\n",
        "from sklearn.metrics import accuracy_score\n",
        "\n",
        "data = load_iris()\n",
        "X = data.data\n",
        "y = data.target\n",
        "\n",
        "X_train, X_test, y_train, y_test = train_test_split(X, y, test_size=0.2, random_state=42)\n",
        "\n",
        "model_min_samples_split = DecisionTreeClassifier(min_samples_split=5)\n",
        "model_min_samples_split.fit(X_train, y_train)\n",
        "acc_min_samples_split = accuracy_score(y_test, model_min_samples_split.predict(X_test))\n",
        "\n",
        "model_default = DecisionTreeClassifier()\n",
        "model_default.fit(X_train, y_train)\n",
        "acc_default = accuracy_score(y_test, model_default.predict(X_test))\n",
        "\n",
        "print(\"Accuracy with min_samples_split=5:\", acc_min_samples_split)\n",
        "print(\"Accuracy with default tree:\", acc_default)\n"
      ],
      "metadata": {
        "colab": {
          "base_uri": "https://localhost:8080/"
        },
        "id": "J4ujkpLA1P92",
        "outputId": "56215f42-f9d4-4490-ee4a-32d602267808"
      },
      "execution_count": 7,
      "outputs": [
        {
          "output_type": "stream",
          "name": "stdout",
          "text": [
            "Accuracy with min_samples_split=5: 1.0\n",
            "Accuracy with default tree: 1.0\n"
          ]
        }
      ]
    },
    {
      "cell_type": "code",
      "source": [
        "#23. Write a Python program to apply feature scaling before training a Decision Tree Classifier and compare its accuracy with unscaled data.\n",
        "\n",
        "from sklearn.datasets import load_iris\n",
        "from sklearn.tree import DecisionTreeClassifier\n",
        "from sklearn.model_selection import train_test_split\n",
        "from sklearn.metrics import accuracy_score\n",
        "from sklearn.preprocessing import StandardScaler\n",
        "\n",
        "data = load_iris()\n",
        "X = data.data\n",
        "y = data.target\n",
        "\n",
        "X_train, X_test, y_train, y_test = train_test_split(X, y, test_size=0.2, random_state=42)\n",
        "\n",
        "model_default = DecisionTreeClassifier()\n",
        "model_default.fit(X_train, y_train)\n",
        "acc_default = accuracy_score(y_test, model_default.predict(X_test))\n",
        "\n",
        "scaler = StandardScaler()\n",
        "X_train_scaled = scaler.fit_transform(X_train)\n",
        "X_test_scaled = scaler.transform(X_test)\n",
        "\n",
        "model_scaled = DecisionTreeClassifier()\n",
        "model_scaled.fit(X_train_scaled, y_train)\n",
        "acc_scaled = accuracy_score(y_test, model_scaled.predict(X_test_scaled))\n",
        "\n",
        "print(\"Accuracy with unscaled data:\", acc_default)\n",
        "print(\"Accuracy with scaled data:\", acc_scaled)\n"
      ],
      "metadata": {
        "colab": {
          "base_uri": "https://localhost:8080/"
        },
        "id": "WDmYUSul1SHQ",
        "outputId": "c319d692-e821-4a1d-e97d-2489421a49f7"
      },
      "execution_count": 8,
      "outputs": [
        {
          "output_type": "stream",
          "name": "stdout",
          "text": [
            "Accuracy with unscaled data: 1.0\n",
            "Accuracy with scaled data: 1.0\n"
          ]
        }
      ]
    },
    {
      "cell_type": "code",
      "source": [
        "#24. Write a Python program to train a Decision Tree Classifier using One-vs-Rest (OvR) strategy for multiclass classification.\n",
        "\n",
        "from sklearn.datasets import load_iris\n",
        "from sklearn.tree import DecisionTreeClassifier\n",
        "from sklearn.multiclass import OneVsRestClassifier\n",
        "from sklearn.model_selection import train_test_split\n",
        "from sklearn.metrics import accuracy_score\n",
        "\n",
        "data = load_iris()\n",
        "X = data.data\n",
        "y = data.target\n",
        "\n",
        "X_train, X_test, y_train, y_test = train_test_split(X, y, test_size=0.2, random_state=42)\n",
        "\n",
        "model_ovr = OneVsRestClassifier(DecisionTreeClassifier())\n",
        "model_ovr.fit(X_train, y_train)\n",
        "\n",
        "y_pred = model_ovr.predict(X_test)\n",
        "accuracy = accuracy_score(y_test, y_pred)\n",
        "print(\"Accuracy using One-vs-Rest (OvR):\", accuracy)\n"
      ],
      "metadata": {
        "colab": {
          "base_uri": "https://localhost:8080/"
        },
        "id": "LseOWamC1Ufa",
        "outputId": "43df5f5a-9bcc-4d8a-ccbb-06c8ed647fee"
      },
      "execution_count": 9,
      "outputs": [
        {
          "output_type": "stream",
          "name": "stdout",
          "text": [
            "Accuracy using One-vs-Rest (OvR): 1.0\n"
          ]
        }
      ]
    },
    {
      "cell_type": "code",
      "source": [
        "#25. Write a Python program to train a Decision Tree Classifier and display the feature importance scores\n",
        "\n",
        "from sklearn.datasets import load_iris\n",
        "from sklearn.tree import DecisionTreeClassifier\n",
        "\n",
        "data = load_iris()\n",
        "X = data.data\n",
        "y = data.target\n",
        "\n",
        "model = DecisionTreeClassifier()\n",
        "model.fit(X, y)\n",
        "\n",
        "for feature, importance in zip(data.feature_names, model.feature_importances_):\n",
        "    print(f\"{feature}: {importance}\")\n"
      ],
      "metadata": {
        "colab": {
          "base_uri": "https://localhost:8080/"
        },
        "id": "WmXTFxao1K4H",
        "outputId": "90e37b57-33dd-4ccd-efbd-7c47691a2d5e"
      },
      "execution_count": 10,
      "outputs": [
        {
          "output_type": "stream",
          "name": "stdout",
          "text": [
            "sepal length (cm): 0.013333333333333329\n",
            "sepal width (cm): 0.0\n",
            "petal length (cm): 0.06405595813204505\n",
            "petal width (cm): 0.9226107085346216\n"
          ]
        }
      ]
    },
    {
      "cell_type": "code",
      "source": [
        "#26. Write a Python program to train a Decision Tree Regressor with max_depth=5 and compare its performance with an unrestricted tree.\n",
        "\n",
        "from sklearn.datasets import fetch_california_housing\n",
        "from sklearn.tree import DecisionTreeRegressor\n",
        "from sklearn.model_selection import train_test_split\n",
        "from sklearn.metrics import mean_squared_error\n",
        "\n",
        "data = fetch_california_housing()\n",
        "X = data.data\n",
        "y = data.target\n",
        "\n",
        "X_train, X_test, y_train, y_test = train_test_split(X, y, test_size=0.2, random_state=42)\n",
        "\n",
        "model_depth_5 = DecisionTreeRegressor(max_depth=5)\n",
        "model_depth_5.fit(X_train, y_train)\n",
        "y_pred_depth_5 = model_depth_5.predict(X_test)\n",
        "mse_depth_5 = mean_squared_error(y_test, y_pred_depth_5)\n",
        "\n",
        "model_unrestricted = DecisionTreeRegressor()\n",
        "model_unrestricted.fit(X_train, y_train)\n",
        "y_pred_unrestricted = model_unrestricted.predict(X_test)\n",
        "mse_unrestricted = mean_squared_error(y_test, y_pred_unrestricted)\n",
        "\n",
        "print(\"Mean Squared Error with max_depth=5:\", mse_depth_5)\n",
        "print(\"Mean Squared Error with unrestricted tree:\", mse_unrestricted)\n"
      ],
      "metadata": {
        "colab": {
          "base_uri": "https://localhost:8080/"
        },
        "id": "Hhc2braI2Shz",
        "outputId": "513a3d96-7187-4f4a-cea3-1d86673b0974"
      },
      "execution_count": 11,
      "outputs": [
        {
          "output_type": "stream",
          "name": "stdout",
          "text": [
            "Mean Squared Error with max_depth=5: 0.5245146178314737\n",
            "Mean Squared Error with unrestricted tree: 0.5032971654109496\n"
          ]
        }
      ]
    },
    {
      "cell_type": "code",
      "source": [
        "#27. Write a Python program to train a Decision Tree Classifier, apply Cost Complexity Pruning (CCP), and visualize its effect on accuracy.\n",
        "\n",
        "from sklearn.datasets import load_iris\n",
        "from sklearn.tree import DecisionTreeClassifier\n",
        "from sklearn.model_selection import train_test_split\n",
        "from sklearn.metrics import accuracy_score\n",
        "import matplotlib.pyplot as plt\n",
        "\n",
        "data = load_iris()\n",
        "X = data.data\n",
        "y = data.target\n",
        "\n",
        "X_train, X_test, y_train, y_test = train_test_split(X, y, test_size=0.2, random_state=42)\n",
        "\n",
        "model = DecisionTreeClassifier(random_state=42)\n",
        "model.fit(X_train, y_train)\n",
        "y_pred = model.predict(X_test)\n",
        "acc_no_pruning = accuracy_score(y_test, y_pred)\n",
        "\n",
        "path = model.cost_complexity_pruning_path(X_train, y_train)\n",
        "ccp_alphas = path.ccp_alphas\n",
        "\n",
        "accuracies = []\n",
        "\n",
        "for alpha in ccp_alphas:\n",
        "    model_pruned = DecisionTreeClassifier(random_state=42, ccp_alpha=alpha)\n",
        "    model_pruned.fit(X_train, y_train)\n",
        "    y_pred_pruned = model_pruned.predict(X_test)\n",
        "    accuracies.append(accuracy_score(y_test, y_pred_pruned))\n",
        "\n",
        "plt.figure(figsize=(10, 6))\n",
        "plt.plot(ccp_alphas, accuracies, marker='o', label=\"Accuracy vs alpha\")\n",
        "plt.axhline(acc_no_pruning, linestyle=\"--\", color=\"r\", label=\"No pruning\")\n",
        "plt.xlabel(\"Alpha (pruning strength)\")\n",
        "plt.ylabel(\"Accuracy\")\n",
        "plt.title(\"Effect of Cost Complexity Pruning on Accuracy\")\n",
        "plt.legend()\n",
        "plt.show()\n",
        "\n",
        "print(\"Accuracy without pruning:\", acc_no_pruning)\n",
        "best_accuracy = max(accuracies)\n",
        "print(\"Best accuracy with pruning:\", best_accuracy)\n"
      ],
      "metadata": {
        "colab": {
          "base_uri": "https://localhost:8080/",
          "height": 599
        },
        "id": "aJ-qqDBE2WlQ",
        "outputId": "c7eda1d3-503d-4bde-82ea-1e403c6af13b"
      },
      "execution_count": 12,
      "outputs": [
        {
          "output_type": "display_data",
          "data": {
            "text/plain": [
              "<Figure size 1000x600 with 1 Axes>"
            ],
            "image/png": "[encoded data removed]"
          },
          "metadata": {}
        },
        {
          "output_type": "stream",
          "name": "stdout",
          "text": [
            "Accuracy without pruning: 1.0\n",
            "Best accuracy with pruning: 1.0\n"
          ]
        }
      ]
    },
    {
      "cell_type": "code",
      "source": [
        "#28. Write a Python program to train a Decision Tree Classifier and evaluate its performance using Precision, Recall, and F1-Score.\n",
        "\n",
        "from sklearn.datasets import load_iris\n",
        "from sklearn.tree import DecisionTreeClassifier\n",
        "from sklearn.model_selection import train_test_split\n",
        "from sklearn.metrics import precision_score, recall_score, f1_score\n",
        "\n",
        "data = load_iris()\n",
        "X = data.data\n",
        "y = data.target\n",
        "\n",
        "X_train, X_test, y_train, y_test = train_test_split(X, y, test_size=0.2, random_state=42)\n",
        "\n",
        "model = DecisionTreeClassifier()\n",
        "model.fit(X_train, y_train)\n",
        "\n",
        "y_pred = model.predict(X_test)\n",
        "\n",
        "precision = precision_score(y_test, y_pred, average='weighted')\n",
        "recall = recall_score(y_test, y_pred, average='weighted')\n",
        "f1 = f1_score(y_test, y_pred, average='weighted')\n",
        "\n",
        "print(\"Precision:\", precision)\n",
        "print(\"Recall:\", recall)\n",
        "print(\"F1-Score:\", f1)\n"
      ],
      "metadata": {
        "colab": {
          "base_uri": "https://localhost:8080/"
        },
        "id": "Y_D5dpeR2ZiI",
        "outputId": "b520a5e8-c437-481d-b719-8fe661c90108"
      },
      "execution_count": 13,
      "outputs": [
        {
          "output_type": "stream",
          "name": "stdout",
          "text": [
            "Precision: 1.0\n",
            "Recall: 1.0\n",
            "F1-Score: 1.0\n"
          ]
        }
      ]
    },
    {
      "cell_type": "code",
      "source": [
        "#29. Write a Python program to train a Decision Tree Classifier and visualize the confusion matrix using seaborn.\n",
        "\n",
        "from sklearn.datasets import load_iris\n",
        "from sklearn.tree import DecisionTreeClassifier\n",
        "from sklearn.model_selection import train_test_split\n",
        "from sklearn.metrics import confusion_matrix\n",
        "import seaborn as sns\n",
        "import matplotlib.pyplot as plt\n",
        "\n",
        "data = load_iris()\n",
        "X = data.data\n",
        "y = data.target\n",
        "\n",
        "X_train, X_test, y_train, y_test = train_test_split(X, y, test_size=0.2, random_state=42)\n",
        "\n",
        "model = DecisionTreeClassifier()\n",
        "model.fit(X_train, y_train)\n",
        "\n",
        "y_pred = model.predict(X_test)\n",
        "\n",
        "cm = confusion_matrix(y_test, y_pred)\n",
        "\n",
        "plt.figure(figsize=(8, 6))\n",
        "sns.heatmap(cm, annot=True, fmt=\"d\", cmap=\"Blues\", xticklabels=data.target_names, yticklabels=data.target_names)\n",
        "plt.title(\"Confusion Matrix\")\n",
        "plt.xlabel(\"Predicted Labels\")\n",
        "plt.ylabel(\"True Labels\")\n",
        "plt.show()\n"
      ],
      "metadata": {
        "colab": {
          "base_uri": "https://localhost:8080/",
          "height": 564
        },
        "id": "vuznYkXY2b6S",
        "outputId": "0acd8aaa-e39d-404d-d223-990592a0ccf0"
      },
      "execution_count": 14,
      "outputs": [
        {
          "output_type": "display_data",
          "data": {
            "text/plain": [
              "<Figure size 800x600 with 2 Axes>"
            ],
            "image/png": "[encoded data removed]"
          },
          "metadata": {}
        }
      ]
    },
    {
      "cell_type": "code",
      "source": [
        "#30. Write a Python program to train a Decision Tree Classifier and use GridSearchCV to find the optimal values for max_depth and min_samples_split.\n",
        "\n",
        "from sklearn.datasets import load_iris\n",
        "from sklearn.tree import DecisionTreeClassifier\n",
        "from sklearn.model_selection import train_test_split, GridSearchCV\n",
        "\n",
        "data = load_iris()\n",
        "X = data.data\n",
        "y = data.target\n",
        "\n",
        "X_train, X_test, y_train, y_test = train_test_split(X, y, test_size=0.2, random_state=42)\n",
        "\n",
        "model = DecisionTreeClassifier()\n",
        "\n",
        "param_grid = {\n",
        "    'max_depth': [3, 5, 7, 10, None],\n",
        "    'min_samples_split': [2, 5, 10, 20]\n",
        "}\n",
        "\n",
        "grid_search = GridSearchCV(estimator=model, param_grid=param_grid, cv=5, scoring='accuracy')\n",
        "\n",
        "grid_search.fit(X_train, y_train)\n",
        "\n",
        "best_params = grid_search.best_params_\n",
        "best_score = grid_search.best_score_\n",
        "\n",
        "print(\"Best parameters found:\", best_params)\n",
        "print(\"Best cross-validation accuracy:\", best_score)\n",
        "\n",
        "best_model = grid_search.best_estimator_\n",
        "test_accuracy = best_model.score(X_test, y_test)\n",
        "print(\"Test accuracy with optimal parameters:\", test_accuracy)\n"
      ],
      "metadata": {
        "colab": {
          "base_uri": "https://localhost:8080/"
        },
        "id": "lJFyl9DN2SlX",
        "outputId": "caed502a-1f45-465f-dab7-94a48128e2a9"
      },
      "execution_count": 15,
      "outputs": [
        {
          "output_type": "stream",
          "name": "stdout",
          "text": [
            "Best parameters found: {'max_depth': None, 'min_samples_split': 2}\n",
            "Best cross-validation accuracy: 0.95\n",
            "Test accuracy with optimal parameters: 1.0\n"
          ]
        }
      ]
    }
  ]
}